{
 "cells": [
  {
   "cell_type": "markdown",
   "source": [],
   "metadata": {
    "id": "lcFyU-F2VWGb"
   },
   "id": "lcFyU-F2VWGb"
  },
  {
   "cell_type": "code",
   "execution_count": null,
   "id": "693d9a92",
   "metadata": {
    "id": "693d9a92"
   },
   "outputs": [],
   "source": [
    "import numpy as np\n",
    "import matplotlib.pyplot as plt\n",
    "\n",
    "plt.style.use('dark_background')"
   ]
  },
  {
   "cell_type": "code",
   "execution_count": null,
   "id": "007e7e12",
   "metadata": {
    "id": "007e7e12"
   },
   "outputs": [],
   "source": [
    "class NeuralNetwork:\n",
    "    \n",
    "    def __init__(self, learning_rate):\n",
    "        self.w = np.array([np.random.randn(), np.random.randn()])\n",
    "        self.w0 = np.random.randn()\n",
    "        self.learning_rate = learning_rate\n",
    "        \n",
    "    def _sigmoid(self, x): \n",
    "        return 1 / (1 + np.exp(-x))\n",
    "    \n",
    "    def _sigmoid_deriv(self, x): \n",
    "        return self._sigmoid(x) * (1 - self._sigmoid(x))\n",
    "    \n",
    "    def predict(self, input_vector): \n",
    "        prediction = self._sigmoid(np.dot(input_vector, self.w) + self.w0)        \n",
    "        return prediction\n",
    "    \n",
    "    def _compute_gradients(self, input_vector, target):\n",
    "        \n",
    "        prediction = self.predict(input_vector) # Предсказание сети\n",
    "\n",
    "            # производная квадратичной функции\n",
    "        deriv_quad_func = 2 * (prediction - target)\n",
    "        \n",
    "            # производная сигмоиды\n",
    "        deriv_sigmoid = self._sigmoid_deriv(np.dot(input_vector, self.w) + self.w0)\n",
    "        \n",
    "            #  производная аргумента сигмоиды по w0 равна 1\n",
    "        deriv_w0 = 1\n",
    "        \n",
    "            #  производная по w равна вектору входных значений\n",
    "        deriv_w = (0 * self.w) + (1 * input_vector)\n",
    "        \n",
    "            # вычисляем градиент (частные производные)\n",
    "        derror_w0 = (deriv_quad_func * deriv_sigmoid * deriv_w0)\n",
    "        derror_w = (deriv_quad_func * deriv_sigmoid * deriv_w)\n",
    "        return derror_w0, derror_w\n",
    "    \n",
    "    \n",
    "    def _update_parameters(self, derror_w0, derror_w):\n",
    "        self.w0 = self.w0 - (derror_w0 * self.learning_rate)\n",
    "        self.w = self.w - (derror_w * self.learning_rate)        \n",
    "        \n",
    "    def train(self, input_vectors, targets, iterations):\n",
    "        cumulative_errors = []\n",
    "        for current_iteration in range(iterations):\n",
    "            \n",
    "            # случайно выбираем номер элемента в массиве входных данных, по которому будет осуществляться градиентный спуск на данной итерации\n",
    "            random_data_index = np.random.randint(len(input_vectors))\n",
    "            # по выбранному номеру получаем входной вектор и реальное значение для сравнения\n",
    "            input_vector = input_vectors[random_data_index]\n",
    "            target = targets[random_data_index]\n",
    "            \n",
    "            # вычисляем градиент (частные производные)\n",
    "            derror_w0, derror_w = self._compute_gradients(input_vector, target)\n",
    "            \n",
    "            # производим пересчёт весов\n",
    "            self._update_parameters(derror_w0, derror_w)\n",
    "            \n",
    "            # вычисляем совокупную ошибку каждые 100 итераций\n",
    "            if current_iteration % 100 == 0:\n",
    "                cumulative_error = 0\n",
    "                # в цикле проверяем все входные данные\n",
    "                for data_instance_index in range(len(input_vectors)):\n",
    "                    data_point = input_vectors[data_instance_index]\n",
    "                    target = targets[data_instance_index]\n",
    "                    \n",
    "                    #  делаем предсказание на текущих данных\n",
    "                    prediction = self.predict(data_point)\n",
    "                    \n",
    "                    # получаем разность квадратов расстояния результата от реального значения\n",
    "                    error = np.square(prediction - target)   \n",
    "                    \n",
    "                    cumulative_error = cumulative_error + error\n",
    "                    \n",
    "                cumulative_errors.append(cumulative_error)\n",
    "        return cumulative_errors"
   ]
  },
  {
   "cell_type": "code",
   "execution_count": null,
   "id": "4a1423ab",
   "metadata": {
    "id": "4a1423ab"
   },
   "outputs": [],
   "source": [
    "learning_rate = 0.1\n",
    "\n",
    "input_vectors = np.array([\n",
    "    [3, 1.5], \n",
    "    [2, 1], \n",
    "    [4, 1.5], \n",
    "    [3, 4], \n",
    "    [3.5, 0.5], \n",
    "    [2, 0.5], \n",
    "    [5.5, 1], \n",
    "    [1, 1], \n",
    "    [1, 2], \n",
    "    [1.2, 0.9]\n",
    "    ])\n",
    "\n",
    "targets = np.array([0, 1, 0, 1, 0, 1, 1, 0, 1, 0])\n"
   ]
  },
  {
   "cell_type": "code",
   "execution_count": null,
   "id": "452681d5",
   "metadata": {
    "colab": {
     "base_uri": "https://localhost:8080/",
     "height": 279
    },
    "id": "452681d5",
    "executionInfo": {
     "status": "ok",
     "timestamp": 1674607238726,
     "user_tz": -180,
     "elapsed": 480,
     "user": {
      "displayName": "Anastasia Luk",
      "userId": "18015055061808722113"
     }
    },
    "outputId": "78a2dd0f-942c-4b89-f00f-4455bc571543"
   },
   "outputs": [
    {
     "output_type": "display_data",
     "data": {
      "text/plain": [
       "<Figure size 432x288 with 1 Axes>"
      ],
      "image/png": "[encoded data removed]"
     },
     "metadata": {}
    }
   ],
   "source": [
    "neural_network = NeuralNetwork(learning_rate)\n",
    "training_error = neural_network.train(input_vectors, targets, 10000)\n",
    "plt.plot(training_error)\n",
    "plt.xlabel(\"Эпохи\")\n",
    "plt.ylabel(\"Ошибка\")\n",
    "plt.show()"
   ]
  },
  {
   "cell_type": "code",
   "execution_count": null,
   "id": "9235666e",
   "metadata": {
    "colab": {
     "base_uri": "https://localhost:8080/"
    },
    "id": "9235666e",
    "executionInfo": {
     "status": "ok",
     "timestamp": 1674607551192,
     "user_tz": -180,
     "elapsed": 7,
     "user": {
      "displayName": "Anastasia Luk",
      "userId": "18015055061808722113"
     }
    },
    "outputId": "6821862d-2300-477c-d01f-9260b9f1b286"
   },
   "outputs": [
    {
     "output_type": "execute_result",
     "data": {
      "text/plain": [
       "2.453023167731881"
      ]
     },
     "metadata": {},
     "execution_count": 18
    }
   ],
   "source": [
    "np.mean(training_error)"
   ]
  },
  {
   "cell_type": "code",
   "source": [],
   "metadata": {
    "id": "kk1AD8_qZOpS"
   },
   "id": "kk1AD8_qZOpS",
   "execution_count": null,
   "outputs": []
  }
 ],
 "metadata": {
  "kernelspec": {
   "display_name": "Python 3 (ipykernel)",
   "language": "python",
   "name": "python3"
  },
  "language_info": {
   "codemirror_mode": {
    "name": "ipython",
    "version": 3
   },
   "file_extension": ".py",
   "mimetype": "text/x-python",
   "name": "python",
   "nbconvert_exporter": "python",
   "pygments_lexer": "ipython3",
   "version": "3.9.13"
  },
  "colab": {
   "provenance": []
  }
 },
 "nbformat": 4,
 "nbformat_minor": 5
}
